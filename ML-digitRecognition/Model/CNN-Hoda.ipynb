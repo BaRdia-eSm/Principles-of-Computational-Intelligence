{
 "cells": [
  {
   "cell_type": "code",
   "execution_count": 1,
   "metadata": {},
   "outputs": [
    {
     "name": "stderr",
     "output_type": "stream",
     "text": [
      "Using TensorFlow backend.\n"
     ]
    }
   ],
   "source": [
    "import keras\n",
    "from keras import layers\n",
    "from keras.models import Sequential\n",
    "from keras.layers import Dense, Dropout, Activation, BatchNormalization\n",
    "import numpy as np\n",
    "from dataset import load_hoda"
   ]
  },
  {
   "cell_type": "code",
   "execution_count": 2,
   "metadata": {},
   "outputs": [],
   "source": [
    "np.random.seed(100)  # for reproducibility"
   ]
  },
  {
   "cell_type": "code",
   "execution_count": 3,
   "metadata": {},
   "outputs": [],
   "source": [
    "# Load pre-shuffled HODA data into train and test sets\n",
    "x_train_original, y_train_original, x_test_original, y_test_original = load_hoda(\n",
    "                                                                        training_sample_size=50000,\n",
    "                                                                        test_sample_size=10000,size=28)"
   ]
  },
  {
   "cell_type": "code",
   "execution_count": 4,
   "metadata": {},
   "outputs": [],
   "source": [
    "# Preprocess input data\n",
    "''' 3.1: input data in numpy array format'''\n",
    "x_train = np.array(x_train_original)\n",
    "x_test = np.array(x_test_original)\n",
    "'''3.2 normalize our data values to the range [0, 1]'''\n",
    "x_train = x_train.astype('float32')\n",
    "x_test = x_test.astype('float32')\n",
    "x_train /= 255\n",
    "x_test /= 255"
   ]
  },
  {
   "cell_type": "code",
   "execution_count": 5,
   "metadata": {},
   "outputs": [],
   "source": [
    "# Reshape to original image shape (n x 784)  ==> (n x 28 x 28 x 1)\n",
    "x_train = x_train.reshape(-1,28,28,1)\n",
    "x_test = x_test.reshape(-1,28,28,1)"
   ]
  },
  {
   "cell_type": "code",
   "execution_count": 6,
   "metadata": {},
   "outputs": [],
   "source": [
    "# 4. Preprocess class labels\n",
    "y_train = keras.utils.to_categorical(y_train_original, num_classes=10)\n",
    "y_test = keras.utils.to_categorical(y_test_original, num_classes=10)"
   ]
  },
  {
   "cell_type": "code",
   "execution_count": 7,
   "metadata": {},
   "outputs": [],
   "source": [
    "# test and validation set\n",
    "x_val = x_test[5000:]\n",
    "x_test = x_test[:5000]\n",
    "y_val = y_test[5000:]\n",
    "y_test = y_test[:5000]"
   ]
  },
  {
   "cell_type": "code",
   "execution_count": 8,
   "metadata": {},
   "outputs": [],
   "source": [
    "# 5. Define model architecture\n",
    "model = Sequential()\n",
    "model.add(layers.Conv2D(32, (3, 3), activation='relu',\n",
    "                        input_shape=(28, 28, 1)))\n",
    "model.add(layers.MaxPooling2D((2, 2)))\n",
    "model.add(layers.Conv2D(64, (3, 3), activation='relu'))\n",
    "model.add(layers.MaxPooling2D((2, 2)))\n",
    "model.add(BatchNormalization())\n",
    "model.add(layers.Conv2D(64, (3, 3), activation='relu'))\n",
    "model.add(layers.Flatten())\n",
    "model.add(layers.Dense(64, activation='relu'))\n",
    "model.add(Dropout(0.5))\n",
    "model.add(layers.Dense(10, activation='softmax'))"
   ]
  },
  {
   "cell_type": "code",
   "execution_count": 9,
   "metadata": {},
   "outputs": [
    {
     "name": "stdout",
     "output_type": "stream",
     "text": [
      "_________________________________________________________________\n",
      "Layer (type)                 Output Shape              Param #   \n",
      "=================================================================\n",
      "conv2d_1 (Conv2D)            (None, 26, 26, 32)        320       \n",
      "_________________________________________________________________\n",
      "max_pooling2d_1 (MaxPooling2 (None, 13, 13, 32)        0         \n",
      "_________________________________________________________________\n",
      "conv2d_2 (Conv2D)            (None, 11, 11, 64)        18496     \n",
      "_________________________________________________________________\n",
      "max_pooling2d_2 (MaxPooling2 (None, 5, 5, 64)          0         \n",
      "_________________________________________________________________\n",
      "batch_normalization_1 (Batch (None, 5, 5, 64)          256       \n",
      "_________________________________________________________________\n",
      "conv2d_3 (Conv2D)            (None, 3, 3, 64)          36928     \n",
      "_________________________________________________________________\n",
      "flatten_1 (Flatten)          (None, 576)               0         \n",
      "_________________________________________________________________\n",
      "dense_1 (Dense)              (None, 64)                36928     \n",
      "_________________________________________________________________\n",
      "dropout_1 (Dropout)          (None, 64)                0         \n",
      "_________________________________________________________________\n",
      "dense_2 (Dense)              (None, 10)                650       \n",
      "=================================================================\n",
      "Total params: 93,578\n",
      "Trainable params: 93,450\n",
      "Non-trainable params: 128\n",
      "_________________________________________________________________\n"
     ]
    }
   ],
   "source": [
    "model.summary()"
   ]
  },
  {
   "cell_type": "code",
   "execution_count": 10,
   "metadata": {},
   "outputs": [],
   "source": [
    "# 6. Compile model\n",
    "model.compile(loss='categorical_crossentropy',\n",
    "              optimizer='adam',\n",
    "              metrics=['accuracy'])"
   ]
  },
  {
   "cell_type": "code",
   "execution_count": null,
   "metadata": {},
   "outputs": [],
   "source": [
    "#loading model\n",
    "from keras.models import load_model\n",
    "model = load_model(\"cnn_model.h5\")"
   ]
  },
  {
   "cell_type": "code",
   "execution_count": 11,
   "metadata": {},
   "outputs": [
    {
     "name": "stdout",
     "output_type": "stream",
     "text": [
      "Train on 50000 samples, validate on 5000 samples\n",
      "Epoch 1/30\n",
      "50000/50000 [==============================] - 6s 130us/step - loss: 0.3108 - acc: 0.9037 - val_loss: 0.0592 - val_acc: 0.9804\n",
      "Epoch 2/30\n",
      "50000/50000 [==============================] - 4s 84us/step - loss: 0.0852 - acc: 0.9758 - val_loss: 0.0417 - val_acc: 0.9876\n",
      "Epoch 3/30\n",
      "50000/50000 [==============================] - 4s 84us/step - loss: 0.0606 - acc: 0.9825 - val_loss: 0.0396 - val_acc: 0.9886\n",
      "Epoch 4/30\n",
      "50000/50000 [==============================] - ETA: 0s - loss: 0.0426 - acc: 0.988 - 4s 83us/step - loss: 0.0426 - acc: 0.9880 - val_loss: 0.0317 - val_acc: 0.9908\n",
      "Epoch 5/30\n",
      "50000/50000 [==============================] - 4s 83us/step - loss: 0.0341 - acc: 0.9905 - val_loss: 0.0352 - val_acc: 0.9900\n",
      "Epoch 6/30\n",
      "50000/50000 [==============================] - 4s 83us/step - loss: 0.0296 - acc: 0.9911 - val_loss: 0.0228 - val_acc: 0.9928\n",
      "Epoch 7/30\n",
      "50000/50000 [==============================] - 4s 83us/step - loss: 0.0225 - acc: 0.9931 - val_loss: 0.0254 - val_acc: 0.9928\n",
      "Epoch 8/30\n",
      "50000/50000 [==============================] - 4s 84us/step - loss: 0.0245 - acc: 0.9922 - val_loss: 0.0297 - val_acc: 0.9908\n",
      "Epoch 9/30\n",
      "50000/50000 [==============================] - 4s 85us/step - loss: 0.0196 - acc: 0.9943 - val_loss: 0.0200 - val_acc: 0.9936\n",
      "Epoch 10/30\n",
      "50000/50000 [==============================] - 4s 85us/step - loss: 0.0164 - acc: 0.9955 - val_loss: 0.0248 - val_acc: 0.9938\n",
      "Epoch 11/30\n",
      "50000/50000 [==============================] - 4s 85us/step - loss: 0.0154 - acc: 0.9953 - val_loss: 0.0180 - val_acc: 0.9954\n",
      "Epoch 12/30\n",
      "50000/50000 [==============================] - 4s 85us/step - loss: 0.0138 - acc: 0.9955 - val_loss: 0.0208 - val_acc: 0.9948\n",
      "Epoch 13/30\n",
      "50000/50000 [==============================] - 4s 84us/step - loss: 0.0137 - acc: 0.9957 - val_loss: 0.0223 - val_acc: 0.9948\n",
      "Epoch 14/30\n",
      "50000/50000 [==============================] - 4s 84us/step - loss: 0.0114 - acc: 0.9963 - val_loss: 0.0177 - val_acc: 0.9958\n",
      "Epoch 15/30\n",
      "50000/50000 [==============================] - 4s 84us/step - loss: 0.0097 - acc: 0.9972 - val_loss: 0.0343 - val_acc: 0.9930\n",
      "Epoch 16/30\n",
      "50000/50000 [==============================] - 4s 84us/step - loss: 0.0117 - acc: 0.9964 - val_loss: 0.0217 - val_acc: 0.9952A: \n",
      "Epoch 17/30\n",
      "50000/50000 [==============================] - 4s 84us/step - loss: 0.0077 - acc: 0.9974 - val_loss: 0.0323 - val_acc: 0.9940\n",
      "Epoch 18/30\n",
      "50000/50000 [==============================] - 4s 84us/step - loss: 0.0090 - acc: 0.9972 - val_loss: 0.0192 - val_acc: 0.9948\n",
      "Epoch 19/30\n",
      "50000/50000 [==============================] - 4s 84us/step - loss: 0.0076 - acc: 0.9977 - val_loss: 0.0223 - val_acc: 0.9950\n",
      "Epoch 20/30\n",
      "50000/50000 [==============================] - ETA: 0s - loss: 0.0056 - acc: 0.9983- ETA: 1s - loss - 4s 84us/step - loss: 0.0056 - acc: 0.9983 - val_loss: 0.0286 - val_acc: 0.9938\n",
      "Epoch 21/30\n",
      "50000/50000 [==============================] - 4s 84us/step - loss: 0.0097 - acc: 0.9972 - val_loss: 0.0379 - val_acc: 0.9924\n",
      "Epoch 22/30\n",
      "50000/50000 [==============================] - 4s 84us/step - loss: 0.0092 - acc: 0.9972 - val_loss: 0.0178 - val_acc: 0.9954loss: 0.0094 - acc: - ETA: 0s - loss: 0.0090 - acc:\n",
      "Epoch 23/30\n",
      "50000/50000 [==============================] - 4s 84us/step - loss: 0.0079 - acc: 0.9977 - val_loss: 0.0223 - val_acc: 0.9956\n",
      "Epoch 24/30\n",
      "50000/50000 [==============================] - 4s 84us/step - loss: 0.0068 - acc: 0.9981 - val_loss: 0.0225 - val_acc: 0.9950\n",
      "Epoch 25/30\n",
      "50000/50000 [==============================] - 4s 84us/step - loss: 0.0067 - acc: 0.9980 - val_loss: 0.0235 - val_acc: 0.9948\n",
      "Epoch 26/30\n",
      "50000/50000 [==============================] - 4s 84us/step - loss: 0.0059 - acc: 0.9982 - val_loss: 0.0281 - val_acc: 0.9946\n",
      "Epoch 27/30\n",
      "50000/50000 [==============================] - 4s 84us/step - loss: 0.0058 - acc: 0.9982 - val_loss: 0.0220 - val_acc: 0.9958 1s - loss: 0.0058  - ETA: 0s - loss: 0.0061\n",
      "Epoch 28/30\n",
      "50000/50000 [==============================] - 4s 84us/step - loss: 0.0062 - acc: 0.9981 - val_loss: 0.0212 - val_acc: 0.9950\n",
      "Epoch 29/30\n",
      "50000/50000 [==============================] - 4s 84us/step - loss: 0.0057 - acc: 0.9982 - val_loss: 0.0321 - val_acc: 0.9938051 -  - ETA: 0s - loss: 0.0056 - acc: 0. - ETA: 0s - loss: 0.0056 - \n",
      "Epoch 30/30\n",
      "50000/50000 [==============================] - 4s 84us/step - loss: 0.0045 - acc: 0.9986 - val_loss: 0.0390 - val_acc: 0.9950\n"
     ]
    }
   ],
   "source": [
    "# 7. Fit model on training data\n",
    "history = model.fit(x_train, y_train,\n",
    "          epochs=30, batch_size=256, validation_data = (x_val, y_val))"
   ]
  },
  {
   "cell_type": "code",
   "execution_count": 12,
   "metadata": {},
   "outputs": [
    {
     "name": "stdout",
     "output_type": "stream",
     "text": [
      "Test loss: 0.019103877175763614\n",
      "Test accuracy: 0.9952\n"
     ]
    }
   ],
   "source": [
    "# 7. Test the model on test data\n",
    "score = model.evaluate(x_test, y_test, verbose=0)\n",
    "\n",
    "print('Test loss:', score[0])\n",
    "print('Test accuracy:', score[1])"
   ]
  },
  {
   "cell_type": "code",
   "execution_count": 14,
   "metadata": {},
   "outputs": [
    {
     "data": {
      "image/png": "[encoded data removed]",
      "text/plain": [
       "<Figure size 432x288 with 1 Axes>"
      ]
     },
     "metadata": {
      "needs_background": "light"
     },
     "output_type": "display_data"
    },
    {
     "data": {
      "image/png": "[encoded data removed]",
      "text/plain": [
       "<Figure size 432x288 with 1 Axes>"
      ]
     },
     "metadata": {
      "needs_background": "light"
     },
     "output_type": "display_data"
    }
   ],
   "source": [
    "import matplotlib.pyplot as plt\n",
    "%matplotlib inline\n",
    "\n",
    "acc = history.history['acc']\n",
    "val_acc = history.history['val_acc']\n",
    "loss = history.history['loss']\n",
    "val_loss = history.history['val_loss']\n",
    "\n",
    "epochs = range(len(acc))\n",
    "\n",
    "plt.plot(epochs, acc, 'r', label='Training acc')\n",
    "plt.plot(epochs, val_acc, 'b', label='Validation acc')\n",
    "plt.title('Training and validation accuracy')\n",
    "plt.legend()\n",
    "\n",
    "plt.figure()\n",
    "\n",
    "plt.plot(epochs, loss, 'r', label='Training loss')\n",
    "plt.plot(epochs, val_loss, 'b', label='Validation loss')\n",
    "plt.title('Training and validation loss')\n",
    "plt.legend()\n",
    "\n",
    "plt.show()"
   ]
  },
  {
   "cell_type": "code",
   "execution_count": 15,
   "metadata": {},
   "outputs": [],
   "source": [
    "#save model\n",
    "model.save(\"cnn_model.h5\")"
   ]
  },
  {
   "cell_type": "code",
   "execution_count": 42,
   "metadata": {},
   "outputs": [],
   "source": [
    "def preprocess(img, size=28):\n",
    "    #resize\n",
    "    img_9by9 = cv2.resize(img, dsize=(size, size))\n",
    "    #normalize\n",
    "    np_img = np.array(img_9by9)\n",
    "    np_img = np_img.reshape((1,28,28,1))\n",
    "    np_img = np_img.astype('float32')\n",
    "    np_img /= 255\n",
    "    \n",
    "    return np_img"
   ]
  },
  {
   "cell_type": "code",
   "execution_count": 43,
   "metadata": {},
   "outputs": [],
   "source": [
    "import cv2"
   ]
  },
  {
   "cell_type": "code",
   "execution_count": 53,
   "metadata": {},
   "outputs": [
    {
     "name": "stdout",
     "output_type": "stream",
     "text": [
      "[2]\n"
     ]
    }
   ],
   "source": [
    "# test the model other handwritten digit\n",
    "test = cv2.imread(\"digit31.jpg\")\n",
    "gray = cv2.cvtColor(test, cv2.COLOR_BGR2GRAY)\n",
    "ret,thresh = cv2.threshold(gray, 127, 255, cv2.THRESH_BINARY_INV)\n",
    "cv2.imshow(\"digit\", thresh)\n",
    "cv2.waitKey()\n",
    "cv2.destroyAllWindows()\n",
    "\n",
    "test_sample = preprocess(thresh)\n",
    "predicted_class = model.predict_classes([test_sample])\n",
    "print(predicted_class)"
   ]
  },
  {
   "cell_type": "code",
   "execution_count": null,
   "metadata": {},
   "outputs": [],
   "source": []
  }
 ],
 "metadata": {
  "anaconda-cloud": {},
  "kernelspec": {
   "display_name": "Python 3",
   "language": "python",
   "name": "python3"
  },
  "language_info": {
   "codemirror_mode": {
    "name": "ipython",
    "version": 3
   },
   "file_extension": ".py",
   "mimetype": "text/x-python",
   "name": "python",
   "nbconvert_exporter": "python",
   "pygments_lexer": "ipython3",
   "version": "3.6.5"
  },
  "nbpresent": {
   "slides": {
    "300ee14f-a043-486e-b274-7ff253907cd7": {
     "id": "300ee14f-a043-486e-b274-7ff253907cd7",
     "prev": "cb74e0bc-4513-4d13-b7f1-14c3078a7927",
     "regions": {
      "26dc3f39-a230-447c-af4c-f5e5b2fb7835": {
       "attrs": {
        "height": 0.8,
        "width": 0.8,
        "x": 0.1,
        "y": 0.1
       },
       "content": {
        "cell": "c58440a5-3f8f-4f37-9c79-6bf766209406",
        "part": "whole"
       },
       "id": "26dc3f39-a230-447c-af4c-f5e5b2fb7835"
      }
     }
    },
    "878aa53a-1444-4100-8f50-7a408191c579": {
     "id": "878aa53a-1444-4100-8f50-7a408191c579",
     "prev": null,
     "regions": {
      "a6c6843a-5ea6-4fbc-b890-3b4b8ae475b3": {
       "attrs": {
        "height": 0.8,
        "width": 0.8,
        "x": 0.1,
        "y": 0.1
       },
       "content": {
        "cell": "588ee1fa-64b5-453b-ade7-8e6b2515821c",
        "part": "whole"
       },
       "id": "a6c6843a-5ea6-4fbc-b890-3b4b8ae475b3"
      }
     }
    },
    "96ffe88e-7b50-43de-afdd-942e564f4e3e": {
     "id": "96ffe88e-7b50-43de-afdd-942e564f4e3e",
     "prev": "878aa53a-1444-4100-8f50-7a408191c579",
     "regions": {
      "b7e52e12-489a-468d-b10c-af2024fd2856": {
       "attrs": {
        "height": 0.8,
        "width": 0.8,
        "x": 0.1,
        "y": 0.1
       },
       "content": {
        "cell": "de829a92-1fb6-44ad-a2c6-fc1001e1f6e1",
        "part": "whole"
       },
       "id": "b7e52e12-489a-468d-b10c-af2024fd2856"
      }
     }
    },
    "cb74e0bc-4513-4d13-b7f1-14c3078a7927": {
     "id": "cb74e0bc-4513-4d13-b7f1-14c3078a7927",
     "prev": "96ffe88e-7b50-43de-afdd-942e564f4e3e",
     "regions": {
      "444878ee-68f3-4abb-acff-a7079b21e86d": {
       "attrs": {
        "height": 0.8,
        "width": 0.8,
        "x": 0.1,
        "y": 0.1
       },
       "content": {
        "cell": "25f3f538-1ee8-4d98-a6bb-14cbeb7a702d",
        "part": "whole"
       },
       "id": "444878ee-68f3-4abb-acff-a7079b21e86d"
      }
     }
    }
   },
   "themes": {}
  }
 },
 "nbformat": 4,
 "nbformat_minor": 1
}
