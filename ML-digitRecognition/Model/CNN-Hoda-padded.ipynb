{
 "cells": [
  {
   "cell_type": "code",
   "execution_count": 1,
   "metadata": {},
   "outputs": [
    {
     "name": "stderr",
     "output_type": "stream",
     "text": [
      "Using TensorFlow backend.\n"
     ]
    }
   ],
   "source": [
    "import keras\n",
    "from keras import layers\n",
    "from keras.models import Sequential\n",
    "from keras.layers import Dense, Dropout, Activation, BatchNormalization\n",
    "import numpy as np\n",
    "import cv2\n",
    "#from dataset import load_hoda"
   ]
  },
  {
   "cell_type": "code",
   "execution_count": 2,
   "metadata": {},
   "outputs": [],
   "source": [
    "np.random.seed(100)  # for reproducibility"
   ]
  },
  {
   "cell_type": "code",
   "execution_count": 3,
   "metadata": {},
   "outputs": [],
   "source": [
    "from scipy import io\n",
    "\n",
    "PATH = './dataset/Data_hoda_full.mat'\n",
    "\n",
    "def load_hoda(training_sample_size=50000, test_sample_size=10000, size=9, dataset_path=PATH):\n",
    "    #load dataset\n",
    "    trs = training_sample_size\n",
    "    tes = test_sample_size\n",
    "    dataset = io.loadmat(dataset_path)\n",
    "\n",
    "    #test and training set\n",
    "    X_train_orginal = np.squeeze(dataset['Data'][:trs])\n",
    "    y_train = np.squeeze(dataset['labels'][:trs])\n",
    "    X_test_original = np.squeeze(dataset['Data'][trs:trs+tes])\n",
    "    y_test = np.squeeze(dataset['labels'][trs:trs+tes])\n",
    "\n",
    "    #resize\n",
    "    X_train_9by9 = [cv2.resize(img, dsize=(size, size)) for img in X_train_orginal]\n",
    "    X_test_9by_9 = [cv2.resize(img, dsize=(size, size)) for img in X_test_original]\n",
    "    \n",
    "    #add Padding\n",
    "    old_size = (size, size)\n",
    "    list_X_train = []\n",
    "    list_X_test = []\n",
    "    for i in X_train_9by9:\n",
    "        paded = np.zeros((old_size[0] + 20, old_size[1] + 20), np.uint8)\n",
    "        for x in range(10, old_size[0] + 10):\n",
    "            for y in range(10, old_size[1] + 10):\n",
    "                paded[x][y] = i[x - 10][y - 10]\n",
    "        list_X_train.append(paded)\n",
    "\n",
    "    for i in X_test_9by_9:\n",
    "        paded = np.zeros((old_size[0] + 20, old_size[1] + 20), np.uint8)\n",
    "        for x in range(10, old_size[0] + 10):\n",
    "            for y in range(10, old_size[1] + 10):\n",
    "                paded[x][y] = i[x - 10][y - 10]\n",
    "        list_X_test.append(paded)\n",
    "\n",
    "    \n",
    "    X_train = np.array(list_X_train)\n",
    "    X_test = np.array(list_X_test)\n",
    "    #reshape\n",
    "    #X_train_paded = [x.reshape(29*29) for x in X_train]\n",
    "    #X_test_paded = [x.reshape(29*29) for x in X_test]\n",
    "    \n",
    "    return X_train, y_train, X_test, y_test"
   ]
  },
  {
   "cell_type": "code",
   "execution_count": 4,
   "metadata": {},
   "outputs": [],
   "source": [
    "# Load pre-shuffled HODA data into train and test sets\n",
    "x_train_original, y_train_original, x_test_original, y_test_original = load_hoda(\n",
    "                                                                        training_sample_size=50000,\n",
    "                                                                        test_sample_size=10000,size=28)"
   ]
  },
  {
   "cell_type": "code",
   "execution_count": 5,
   "metadata": {},
   "outputs": [],
   "source": [
    "# Preprocess input data\n",
    "''' 3.1: input data in numpy array format'''\n",
    "x_train = np.array(x_train_original)\n",
    "x_test = np.array(x_test_original)\n",
    "'''3.2 normalize our data values to the range [0, 1]'''\n",
    "x_train = x_train.astype('float32')\n",
    "x_test = x_test.astype('float32')\n",
    "x_train /= 255\n",
    "x_test /= 255"
   ]
  },
  {
   "cell_type": "code",
   "execution_count": 7,
   "metadata": {},
   "outputs": [
    {
     "data": {
      "text/plain": [
       "(50000, 48, 48)"
      ]
     },
     "execution_count": 7,
     "metadata": {},
     "output_type": "execute_result"
    }
   ],
   "source": [
    "x_train.shape"
   ]
  },
  {
   "cell_type": "code",
   "execution_count": 8,
   "metadata": {},
   "outputs": [],
   "source": [
    "# Reshape to original image shape (n x 784)  ==> (n x 28 x 28 x 1)\n",
    "x_train = x_train.reshape(-1,48,48,1)\n",
    "x_test = x_test.reshape(-1,48,48,1)"
   ]
  },
  {
   "cell_type": "code",
   "execution_count": 9,
   "metadata": {},
   "outputs": [],
   "source": [
    "# 4. Preprocess class labels\n",
    "y_train = keras.utils.to_categorical(y_train_original, num_classes=10)\n",
    "y_test = keras.utils.to_categorical(y_test_original, num_classes=10)"
   ]
  },
  {
   "cell_type": "code",
   "execution_count": 10,
   "metadata": {},
   "outputs": [],
   "source": [
    "# test and validation set\n",
    "x_val = x_test[5000:]\n",
    "x_test = x_test[:5000]\n",
    "y_val = y_test[5000:]\n",
    "y_test = y_test[:5000]"
   ]
  },
  {
   "cell_type": "code",
   "execution_count": 15,
   "metadata": {},
   "outputs": [],
   "source": [
    "# 5. Define model architecture\n",
    "model = Sequential()\n",
    "model.add(layers.Conv2D(32, (3, 3), activation='relu',\n",
    "                        input_shape=(48, 48, 1)))\n",
    "model.add(layers.MaxPooling2D((2, 2)))\n",
    "model.add(layers.Conv2D(64, (3, 3), activation='relu'))\n",
    "model.add(layers.MaxPooling2D((2, 2)))\n",
    "model.add(BatchNormalization())\n",
    "model.add(layers.Conv2D(64, (3, 3), activation='relu'))\n",
    "model.add(layers.Flatten())\n",
    "model.add(layers.Dense(64, activation='relu'))\n",
    "model.add(Dropout(0.5))\n",
    "model.add(layers.Dense(10, activation='softmax'))"
   ]
  },
  {
   "cell_type": "code",
   "execution_count": 16,
   "metadata": {},
   "outputs": [
    {
     "name": "stdout",
     "output_type": "stream",
     "text": [
      "_________________________________________________________________\n",
      "Layer (type)                 Output Shape              Param #   \n",
      "=================================================================\n",
      "conv2d_4 (Conv2D)            (None, 46, 46, 32)        320       \n",
      "_________________________________________________________________\n",
      "max_pooling2d_3 (MaxPooling2 (None, 23, 23, 32)        0         \n",
      "_________________________________________________________________\n",
      "conv2d_5 (Conv2D)            (None, 21, 21, 64)        18496     \n",
      "_________________________________________________________________\n",
      "max_pooling2d_4 (MaxPooling2 (None, 10, 10, 64)        0         \n",
      "_________________________________________________________________\n",
      "batch_normalization_2 (Batch (None, 10, 10, 64)        256       \n",
      "_________________________________________________________________\n",
      "conv2d_6 (Conv2D)            (None, 8, 8, 64)          36928     \n",
      "_________________________________________________________________\n",
      "flatten_2 (Flatten)          (None, 4096)              0         \n",
      "_________________________________________________________________\n",
      "dense_3 (Dense)              (None, 64)                262208    \n",
      "_________________________________________________________________\n",
      "dropout_2 (Dropout)          (None, 64)                0         \n",
      "_________________________________________________________________\n",
      "dense_4 (Dense)              (None, 10)                650       \n",
      "=================================================================\n",
      "Total params: 318,858\n",
      "Trainable params: 318,730\n",
      "Non-trainable params: 128\n",
      "_________________________________________________________________\n"
     ]
    }
   ],
   "source": [
    "model.summary()"
   ]
  },
  {
   "cell_type": "code",
   "execution_count": 17,
   "metadata": {},
   "outputs": [],
   "source": [
    "# 6. Compile model\n",
    "model.compile(loss='categorical_crossentropy',\n",
    "              optimizer='adam',\n",
    "              metrics=['accuracy'])"
   ]
  },
  {
   "cell_type": "code",
   "execution_count": null,
   "metadata": {},
   "outputs": [],
   "source": [
    "#loading model\n",
    "from keras.models import load_model\n",
    "model = load_model(\"cnn_model_padded.h5\")"
   ]
  },
  {
   "cell_type": "code",
   "execution_count": 18,
   "metadata": {},
   "outputs": [
    {
     "name": "stdout",
     "output_type": "stream",
     "text": [
      "Train on 50000 samples, validate on 5000 samples\n",
      "Epoch 1/30\n",
      "50000/50000 [==============================] - 14s 285us/step - loss: 0.1945 - acc: 0.9387 - val_loss: 0.0390 - val_acc: 0.9876\n",
      "Epoch 2/30\n",
      "50000/50000 [==============================] - 12s 238us/step - loss: 0.0596 - acc: 0.9830 - val_loss: 0.0176 - val_acc: 0.9946\n",
      "Epoch 3/30\n",
      "50000/50000 [==============================] - 12s 238us/step - loss: 0.0446 - acc: 0.9866 - val_loss: 0.0258 - val_acc: 0.9914\n",
      "Epoch 4/30\n",
      "50000/50000 [==============================] - 12s 238us/step - loss: 0.0354 - acc: 0.9890 - val_loss: 0.0176 - val_acc: 0.9950\n",
      "Epoch 5/30\n",
      "50000/50000 [==============================] - 12s 239us/step - loss: 0.0277 - acc: 0.9913 - val_loss: 0.0177 - val_acc: 0.9942\n",
      "Epoch 6/30\n",
      "50000/50000 [==============================] - 12s 237us/step - loss: 0.0244 - acc: 0.9923 - val_loss: 0.0093 - val_acc: 0.9978\n",
      "Epoch 7/30\n",
      "50000/50000 [==============================] - 12s 237us/step - loss: 0.0216 - acc: 0.9930 - val_loss: 0.0134 - val_acc: 0.9956\n",
      "Epoch 8/30\n",
      "50000/50000 [==============================] - 12s 237us/step - loss: 0.0174 - acc: 0.9939 - val_loss: 0.0336 - val_acc: 0.9890\n",
      "Epoch 9/30\n",
      "50000/50000 [==============================] - 12s 237us/step - loss: 0.0163 - acc: 0.9944 - val_loss: 0.0130 - val_acc: 0.9956\n",
      "Epoch 10/30\n",
      "50000/50000 [==============================] - 12s 237us/step - loss: 0.0154 - acc: 0.9951 - val_loss: 0.0192 - val_acc: 0.9950\n",
      "Epoch 11/30\n",
      "50000/50000 [==============================] - 12s 236us/step - loss: 0.0144 - acc: 0.9952 - val_loss: 0.0291 - val_acc: 0.9944\n",
      "Epoch 12/30\n",
      "50000/50000 [==============================] - 12s 237us/step - loss: 0.0136 - acc: 0.9958 - val_loss: 0.0121 - val_acc: 0.9958\n",
      "Epoch 13/30\n",
      "50000/50000 [==============================] - 12s 237us/step - loss: 0.0127 - acc: 0.9960 - val_loss: 0.0180 - val_acc: 0.9952\n",
      "Epoch 14/30\n",
      "50000/50000 [==============================] - 12s 237us/step - loss: 0.0117 - acc: 0.9958 - val_loss: 0.0149 - val_acc: 0.9966\n",
      "Epoch 15/30\n",
      "50000/50000 [==============================] - 12s 237us/step - loss: 0.0098 - acc: 0.9966 - val_loss: 0.0102 - val_acc: 0.9976\n",
      "Epoch 16/30\n",
      "50000/50000 [==============================] - 12s 236us/step - loss: 0.0091 - acc: 0.9968 - val_loss: 0.0142 - val_acc: 0.9964\n",
      "Epoch 17/30\n",
      "50000/50000 [==============================] - 12s 236us/step - loss: 0.0095 - acc: 0.9969 - val_loss: 0.0116 - val_acc: 0.9978\n",
      "Epoch 18/30\n",
      "50000/50000 [==============================] - 12s 237us/step - loss: 0.0089 - acc: 0.9966 - val_loss: 0.0094 - val_acc: 0.9978\n",
      "Epoch 19/30\n",
      "50000/50000 [==============================] - 12s 236us/step - loss: 0.0136 - acc: 0.9956 - val_loss: 0.0114 - val_acc: 0.9974\n",
      "Epoch 20/30\n",
      "50000/50000 [==============================] - 12s 237us/step - loss: 0.0072 - acc: 0.9974 - val_loss: 0.0148 - val_acc: 0.9978\n",
      "Epoch 21/30\n",
      "50000/50000 [==============================] - 12s 236us/step - loss: 0.0069 - acc: 0.9978 - val_loss: 0.0107 - val_acc: 0.9976\n",
      "Epoch 22/30\n",
      "50000/50000 [==============================] - 12s 236us/step - loss: 0.0070 - acc: 0.9976 - val_loss: 0.0072 - val_acc: 0.9980\n",
      "Epoch 23/30\n",
      "50000/50000 [==============================] - 12s 237us/step - loss: 0.0078 - acc: 0.9977 - val_loss: 0.0137 - val_acc: 0.9956\n",
      "Epoch 24/30\n",
      "50000/50000 [==============================] - 12s 237us/step - loss: 0.0074 - acc: 0.9975 - val_loss: 0.0240 - val_acc: 0.9940\n",
      "Epoch 25/30\n",
      "50000/50000 [==============================] - 12s 238us/step - loss: 0.0069 - acc: 0.9976 - val_loss: 0.0085 - val_acc: 0.9992\n",
      "Epoch 26/30\n",
      "50000/50000 [==============================] - 12s 238us/step - loss: 0.0058 - acc: 0.9980 - val_loss: 0.0096 - val_acc: 0.9984\n",
      "Epoch 27/30\n",
      "50000/50000 [==============================] - 12s 238us/step - loss: 0.0059 - acc: 0.9982 - val_loss: 0.0143 - val_acc: 0.9982\n",
      "Epoch 28/30\n",
      "50000/50000 [==============================] - 12s 238us/step - loss: 0.0068 - acc: 0.9976 - val_loss: 0.0262 - val_acc: 0.9942\n",
      "Epoch 29/30\n",
      "50000/50000 [==============================] - 12s 237us/step - loss: 0.0053 - acc: 0.9982 - val_loss: 0.0109 - val_acc: 0.9984\n",
      "Epoch 30/30\n",
      "50000/50000 [==============================] - 12s 237us/step - loss: 0.0058 - acc: 0.9981 - val_loss: 0.0157 - val_acc: 0.9978\n"
     ]
    }
   ],
   "source": [
    "# 7. Fit model on training data\n",
    "history = model.fit(x_train, y_train,\n",
    "          epochs=30, batch_size=256, validation_data = (x_val, y_val))"
   ]
  },
  {
   "cell_type": "code",
   "execution_count": 19,
   "metadata": {},
   "outputs": [
    {
     "name": "stdout",
     "output_type": "stream",
     "text": [
      "Test loss: 0.013390782042655905\n",
      "Test accuracy: 0.9968\n"
     ]
    }
   ],
   "source": [
    "# 7. Test the model on test data\n",
    "score = model.evaluate(x_test, y_test, verbose=0)\n",
    "\n",
    "print('Test loss:', score[0])\n",
    "print('Test accuracy:', score[1])"
   ]
  },
  {
   "cell_type": "code",
   "execution_count": 20,
   "metadata": {},
   "outputs": [
    {
     "data": {
      "image/png": "[encoded data removed]",
      "text/plain": [
       "<Figure size 432x288 with 1 Axes>"
      ]
     },
     "metadata": {
      "needs_background": "light"
     },
     "output_type": "display_data"
    },
    {
     "data": {
      "image/png": "[encoded data removed]",
      "text/plain": [
       "<Figure size 432x288 with 1 Axes>"
      ]
     },
     "metadata": {
      "needs_background": "light"
     },
     "output_type": "display_data"
    }
   ],
   "source": [
    "import matplotlib.pyplot as plt\n",
    "%matplotlib inline\n",
    "\n",
    "acc = history.history['acc']\n",
    "val_acc = history.history['val_acc']\n",
    "loss = history.history['loss']\n",
    "val_loss = history.history['val_loss']\n",
    "\n",
    "epochs = range(len(acc))\n",
    "\n",
    "plt.plot(epochs, acc, 'r', label='Training acc')\n",
    "plt.plot(epochs, val_acc, 'b', label='Validation acc')\n",
    "plt.title('Training and validation accuracy')\n",
    "plt.legend()\n",
    "\n",
    "plt.figure()\n",
    "\n",
    "plt.plot(epochs, loss, 'r', label='Training loss')\n",
    "plt.plot(epochs, val_loss, 'b', label='Validation loss')\n",
    "plt.title('Training and validation loss')\n",
    "plt.legend()\n",
    "\n",
    "plt.show()"
   ]
  },
  {
   "cell_type": "code",
   "execution_count": 21,
   "metadata": {},
   "outputs": [],
   "source": [
    "#save model\n",
    "model.save(\"cnn_model_padded.h5\")"
   ]
  },
  {
   "cell_type": "code",
   "execution_count": 24,
   "metadata": {},
   "outputs": [],
   "source": [
    "def preprocess(img, size=28):\n",
    "    #resize\n",
    "    img_9by9 = cv2.resize(img, dsize=(size, size))\n",
    "    #normalize\n",
    "    np_img = np.array(img_9by9)\n",
    "    np_img = np_img.reshape((1,48,48,1))\n",
    "    np_img = np_img.astype('float32')\n",
    "    np_img /= 255\n",
    "    \n",
    "    return np_img"
   ]
  },
  {
   "cell_type": "code",
   "execution_count": 25,
   "metadata": {},
   "outputs": [
    {
     "ename": "ValueError",
     "evalue": "cannot reshape array of size 784 into shape (1,48,48,1)",
     "output_type": "error",
     "traceback": [
      "\u001b[1;31m---------------------------------------------------------------------------\u001b[0m",
      "\u001b[1;31mValueError\u001b[0m                                Traceback (most recent call last)",
      "\u001b[1;32m<ipython-input-25-7296e641bb6e>\u001b[0m in \u001b[0;36m<module>\u001b[1;34m()\u001b[0m\n\u001b[0;32m      7\u001b[0m \u001b[0mcv2\u001b[0m\u001b[1;33m.\u001b[0m\u001b[0mdestroyAllWindows\u001b[0m\u001b[1;33m(\u001b[0m\u001b[1;33m)\u001b[0m\u001b[1;33m\u001b[0m\u001b[0m\n\u001b[0;32m      8\u001b[0m \u001b[1;33m\u001b[0m\u001b[0m\n\u001b[1;32m----> 9\u001b[1;33m \u001b[0mtest_sample\u001b[0m \u001b[1;33m=\u001b[0m \u001b[0mpreprocess\u001b[0m\u001b[1;33m(\u001b[0m\u001b[0mthresh\u001b[0m\u001b[1;33m)\u001b[0m\u001b[1;33m\u001b[0m\u001b[0m\n\u001b[0m\u001b[0;32m     10\u001b[0m \u001b[0mpredicted_class\u001b[0m \u001b[1;33m=\u001b[0m \u001b[0mmodel\u001b[0m\u001b[1;33m.\u001b[0m\u001b[0mpredict_classes\u001b[0m\u001b[1;33m(\u001b[0m\u001b[1;33m[\u001b[0m\u001b[0mtest_sample\u001b[0m\u001b[1;33m]\u001b[0m\u001b[1;33m)\u001b[0m\u001b[1;33m\u001b[0m\u001b[0m\n\u001b[0;32m     11\u001b[0m \u001b[0mprint\u001b[0m\u001b[1;33m(\u001b[0m\u001b[0mpredicted_class\u001b[0m\u001b[1;33m)\u001b[0m\u001b[1;33m\u001b[0m\u001b[0m\n",
      "\u001b[1;32m<ipython-input-24-cd2fcf399ee9>\u001b[0m in \u001b[0;36mpreprocess\u001b[1;34m(img, size)\u001b[0m\n\u001b[0;32m      4\u001b[0m     \u001b[1;31m#normalize\u001b[0m\u001b[1;33m\u001b[0m\u001b[1;33m\u001b[0m\u001b[0m\n\u001b[0;32m      5\u001b[0m     \u001b[0mnp_img\u001b[0m \u001b[1;33m=\u001b[0m \u001b[0mnp\u001b[0m\u001b[1;33m.\u001b[0m\u001b[0marray\u001b[0m\u001b[1;33m(\u001b[0m\u001b[0mimg_9by9\u001b[0m\u001b[1;33m)\u001b[0m\u001b[1;33m\u001b[0m\u001b[0m\n\u001b[1;32m----> 6\u001b[1;33m     \u001b[0mnp_img\u001b[0m \u001b[1;33m=\u001b[0m \u001b[0mnp_img\u001b[0m\u001b[1;33m.\u001b[0m\u001b[0mreshape\u001b[0m\u001b[1;33m(\u001b[0m\u001b[1;33m(\u001b[0m\u001b[1;36m1\u001b[0m\u001b[1;33m,\u001b[0m\u001b[1;36m48\u001b[0m\u001b[1;33m,\u001b[0m\u001b[1;36m48\u001b[0m\u001b[1;33m,\u001b[0m\u001b[1;36m1\u001b[0m\u001b[1;33m)\u001b[0m\u001b[1;33m)\u001b[0m\u001b[1;33m\u001b[0m\u001b[0m\n\u001b[0m\u001b[0;32m      7\u001b[0m     \u001b[0mnp_img\u001b[0m \u001b[1;33m=\u001b[0m \u001b[0mnp_img\u001b[0m\u001b[1;33m.\u001b[0m\u001b[0mastype\u001b[0m\u001b[1;33m(\u001b[0m\u001b[1;34m'float32'\u001b[0m\u001b[1;33m)\u001b[0m\u001b[1;33m\u001b[0m\u001b[0m\n\u001b[0;32m      8\u001b[0m     \u001b[0mnp_img\u001b[0m \u001b[1;33m/=\u001b[0m \u001b[1;36m255\u001b[0m\u001b[1;33m\u001b[0m\u001b[0m\n",
      "\u001b[1;31mValueError\u001b[0m: cannot reshape array of size 784 into shape (1,48,48,1)"
     ]
    }
   ],
   "source": [
    "# test the model other handwritten digit\n",
    "test = cv2.imread(\"digit31.jpg\")\n",
    "gray = cv2.cvtColor(test, cv2.COLOR_BGR2GRAY)\n",
    "ret,thresh = cv2.threshold(gray, 127, 255, cv2.THRESH_BINARY_INV)\n",
    "cv2.imshow(\"digit\", thresh)\n",
    "cv2.waitKey()\n",
    "cv2.destroyAllWindows()\n",
    "\n",
    "test_sample = preprocess(thresh)\n",
    "predicted_class = model.predict_classes([test_sample])\n",
    "print(predicted_class)"
   ]
  },
  {
   "cell_type": "code",
   "execution_count": null,
   "metadata": {},
   "outputs": [],
   "source": []
  }
 ],
 "metadata": {
  "anaconda-cloud": {},
  "kernelspec": {
   "display_name": "Python 3",
   "language": "python",
   "name": "python3"
  },
  "language_info": {
   "codemirror_mode": {
    "name": "ipython",
    "version": 3
   },
   "file_extension": ".py",
   "mimetype": "text/x-python",
   "name": "python",
   "nbconvert_exporter": "python",
   "pygments_lexer": "ipython3",
   "version": "3.6.5"
  },
  "nbpresent": {
   "slides": {
    "300ee14f-a043-486e-b274-7ff253907cd7": {
     "id": "300ee14f-a043-486e-b274-7ff253907cd7",
     "prev": "cb74e0bc-4513-4d13-b7f1-14c3078a7927",
     "regions": {
      "26dc3f39-a230-447c-af4c-f5e5b2fb7835": {
       "attrs": {
        "height": 0.8,
        "width": 0.8,
        "x": 0.1,
        "y": 0.1
       },
       "content": {
        "cell": "c58440a5-3f8f-4f37-9c79-6bf766209406",
        "part": "whole"
       },
       "id": "26dc3f39-a230-447c-af4c-f5e5b2fb7835"
      }
     }
    },
    "878aa53a-1444-4100-8f50-7a408191c579": {
     "id": "878aa53a-1444-4100-8f50-7a408191c579",
     "prev": null,
     "regions": {
      "a6c6843a-5ea6-4fbc-b890-3b4b8ae475b3": {
       "attrs": {
        "height": 0.8,
        "width": 0.8,
        "x": 0.1,
        "y": 0.1
       },
       "content": {
        "cell": "588ee1fa-64b5-453b-ade7-8e6b2515821c",
        "part": "whole"
       },
       "id": "a6c6843a-5ea6-4fbc-b890-3b4b8ae475b3"
      }
     }
    },
    "96ffe88e-7b50-43de-afdd-942e564f4e3e": {
     "id": "96ffe88e-7b50-43de-afdd-942e564f4e3e",
     "prev": "878aa53a-1444-4100-8f50-7a408191c579",
     "regions": {
      "b7e52e12-489a-468d-b10c-af2024fd2856": {
       "attrs": {
        "height": 0.8,
        "width": 0.8,
        "x": 0.1,
        "y": 0.1
       },
       "content": {
        "cell": "de829a92-1fb6-44ad-a2c6-fc1001e1f6e1",
        "part": "whole"
       },
       "id": "b7e52e12-489a-468d-b10c-af2024fd2856"
      }
     }
    },
    "cb74e0bc-4513-4d13-b7f1-14c3078a7927": {
     "id": "cb74e0bc-4513-4d13-b7f1-14c3078a7927",
     "prev": "96ffe88e-7b50-43de-afdd-942e564f4e3e",
     "regions": {
      "444878ee-68f3-4abb-acff-a7079b21e86d": {
       "attrs": {
        "height": 0.8,
        "width": 0.8,
        "x": 0.1,
        "y": 0.1
       },
       "content": {
        "cell": "25f3f538-1ee8-4d98-a6bb-14cbeb7a702d",
        "part": "whole"
       },
       "id": "444878ee-68f3-4abb-acff-a7079b21e86d"
      }
     }
    }
   },
   "themes": {}
  }
 },
 "nbformat": 4,
 "nbformat_minor": 1
}
